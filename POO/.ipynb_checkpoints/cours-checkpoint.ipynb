{
 "cells": [
  {
   "cell_type": "markdown",
   "id": "75e65f59-b490-4ff3-b664-a97f41df572f",
   "metadata": {
    "tags": []
   },
   "source": [
    "Un objet créer à partir d'une classe est une instance de cette classe."
   ]
  },
  {
   "cell_type": "markdown",
   "id": "bfb028ff-a282-4476-ab7e-e1d0547d90a0",
   "metadata": {},
   "source": [
    "Afin d'initailiser un objet une classe doit être doté d'un constructeur, appellé par convention __init__, cette méthode permet de d\"clarer les attributs d'un objets."
   ]
  },
  {
   "cell_type": "markdown",
   "id": "922ce6ea-57ad-4529-af38-f9aed38442e6",
   "metadata": {},
   "source": [
    "Rendre un attribut privée correspond à l'encapsulation."
   ]
  },
  {
   "cell_type": "markdown",
   "id": "9a54f6c2-f050-4212-a7d5-431ff1beedf9",
   "metadata": {},
   "source": [
    "L'emcapsulation rend les vars inaccessibles aux users de facon direct."
   ]
  },
  {
   "cell_type": "markdown",
   "id": "c9f93681-a574-4ae4-b353-49d38469d4f2",
   "metadata": {},
   "source": [
    "Il désormais est nécessaire pour pouvoir accéder ses attributs de créer des méthodes appellé acceseurs (get) et mutateur (set)."
   ]
  },
  {
   "cell_type": "markdown",
   "id": "175511b8-19f9-4c0a-b0b9-5563245cee2e",
   "metadata": {},
   "source": [
    "Les attributs d'instance sont les attricuts propres à chaques objet instancié. Les attribut de classes sont partagées entre tous les objets/instance d'une même classe."
   ]
  },
  {
   "cell_type": "code",
   "execution_count": 11,
   "id": "f0cac70c-0790-41c6-8258-d6c712c8ec5a",
   "metadata": {},
   "outputs": [],
   "source": [
    "class Moto:\n",
    "    compteur_objet = 0\n",
    "    def __init__(self,vitesse,marque,poids):\n",
    "        self.__vitesse_max = vitesse\n",
    "        self.__vitesse = 0\n",
    "        self.__marque = marque\n",
    "        self.__poids = poids\n",
    "        Moto.compteur_objet += 1\n",
    "        \n",
    "    def accelerer(self,acceleration):\n",
    "        for i in range(acceleration):\n",
    "            if self.__vitesse <= self.__vitesse_max:\n",
    "                self.__vitesse += 1\n",
    "            \n",
    "    def decellerer(self,deceleration):\n",
    "        for i in range(deceleration):\n",
    "            if self.__vitesse >= 0:\n",
    "                self.__vitesse -= 1"
   ]
  },
  {
   "cell_type": "code",
   "execution_count": 13,
   "id": "e38077e4-9a86-4dbd-9154-02a1b304aeb1",
   "metadata": {},
   "outputs": [],
   "source": [
    "ZX_R     = Moto(370,'KAWASAKI',250)\n",
    "S1000_RR = Moto(360,'BMW',340)"
   ]
  },
  {
   "cell_type": "code",
   "execution_count": null,
   "id": "5de09a32-0d6a-4b65-a877-69f07b9711c1",
   "metadata": {},
   "outputs": [],
   "source": []
  }
 ],
 "metadata": {
  "kernelspec": {
   "display_name": "Python 3 (ipykernel)",
   "language": "python",
   "name": "python3"
  },
  "language_info": {
   "codemirror_mode": {
    "name": "ipython",
    "version": 3
   },
   "file_extension": ".py",
   "mimetype": "text/x-python",
   "name": "python",
   "nbconvert_exporter": "python",
   "pygments_lexer": "ipython3",
   "version": "3.10.0"
  }
 },
 "nbformat": 4,
 "nbformat_minor": 5
}
