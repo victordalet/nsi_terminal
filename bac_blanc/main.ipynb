{
 "cells": [
  {
   "cell_type": "code",
   "execution_count": 1,
   "id": "c44d6c02-5493-4b99-b43b-c47318b5b8ac",
   "metadata": {},
   "outputs": [],
   "source": [
    "def recherche(tab,n):\n",
    "    for i in range(len(tab)):\n",
    "        if tab[i] == n:\n",
    "            return i\n",
    "    return len(tab)"
   ]
  },
  {
   "cell_type": "code",
   "execution_count": 14,
   "id": "e12e0a56-f6e2-44b9-b049-294810a861b1",
   "metadata": {},
   "outputs": [
    {
     "name": "stdout",
     "output_type": "stream",
     "text": [
      "2\n",
      "0\n"
     ]
    }
   ],
   "source": [
    "print(recherche([5, 3],1))\n",
    "print(recherche([2,4],2))"
   ]
  },
  {
   "cell_type": "code",
   "execution_count": 13,
   "id": "a0f53f57-2642-4375-a20b-9c6515f57a47",
   "metadata": {},
   "outputs": [],
   "source": [
    "from math import sqrt\n",
    "\n",
    "def distance(point1, point2):\n",
    "    return sqrt((point1[0]-point2[0])**2 + (point1[1]-point2[1])**2)\n",
    "\n",
    "assert distance((1, 0), (5, 3)) == 5.0, \"erreur de calcul\"\n",
    "\n",
    "\n",
    "def plus_courte_distance(tab, depart):\n",
    "    point = tab[0]\n",
    "    min_dist = distance(tab[0], depart)\n",
    "    for i in range (1,len(tab)):\n",
    "        if distance(tab[i], depart) < min_dist:\n",
    "            point = tab[i]\n",
    "            min_dist = distance(tab[i], depart)\n",
    "    return point\n",
    "\n",
    "assert plus_courte_distance([(7, 9), (2, 5), (5, 2)], (0, 0)) == (2, 5), \"erreur\""
   ]
  },
  {
   "cell_type": "code",
   "execution_count": 21,
   "id": "314716a2-97e4-4105-8763-296f7a3fa632",
   "metadata": {},
   "outputs": [
    {
     "name": "stdout",
     "output_type": "stream",
     "text": [
      "([1, 0, 0, 1], 4)\n"
     ]
    }
   ],
   "source": [
    "def conv_bin(n):\n",
    "    nb_bin = []\n",
    "    for i in range(len(bin(n))):\n",
    "        if i > 1:\n",
    "            nb_bin += [int(bin(n)[i])]\n",
    "    return (nb_bin,len(nb_bin))\n",
    "print(conv_bin(9))"
   ]
  },
  {
   "cell_type": "code",
   "execution_count": 25,
   "id": "66dd3e7a-2434-4da3-9204-f84173a36b19",
   "metadata": {},
   "outputs": [
    {
     "name": "stdout",
     "output_type": "stream",
     "text": [
      "[2, 5, 7, 8, 9]\n"
     ]
    }
   ],
   "source": [
    "def tri_bulles(T):\n",
    "    for i in range(len(T)):\n",
    "        for j in range(len(T) - i - 1):\n",
    "            if T[j] > T[j + 1]:\n",
    "                T[j], T[j + 1] = T[j + 1], T[j]\n",
    "    return T\n",
    "print(tri_bulles([8,5,9,2,7]))"
   ]
  },
  {
   "cell_type": "code",
   "execution_count": 47,
   "id": "f9cfdca2-b18b-4395-8179-800c7e74ceb2",
   "metadata": {},
   "outputs": [
    {
     "name": "stdout",
     "output_type": "stream",
     "text": [
      "[3, 2, 9, 5]\n"
     ]
    }
   ],
   "source": [
    "def tri_selection(liste):\n",
    "    n = len(liste)\n",
    "    for i in range(n-2):\n",
    "        value_min = i\n",
    "        for j in (i + 1, n - 1):\n",
    "            if liste[j] < liste[value_min]:\n",
    "                value_min = j\n",
    "        if value_min != i:\n",
    "            liste[i], liste[value_min] = liste[value_min], liste[i]\n",
    "    return liste\n",
    "print(tri_selection([5,9,2,3]))"
   ]
  },
  {
   "cell_type": "code",
   "execution_count": 4,
   "id": "50175b13-90a3-4093-b9f5-9e6c34b45a99",
   "metadata": {},
   "outputs": [],
   "source": [
    "def moyenne(liste):\n",
    "    total = 0\n",
    "    for i in liste:\n",
    "        total += i\n",
    "    total/=len(liste)\n",
    "    return total"
   ]
  },
  {
   "cell_type": "code",
   "execution_count": 5,
   "id": "6e42a108-32ce-4d22-b7e8-2517b95ae105",
   "metadata": {},
   "outputs": [
    {
     "data": {
      "text/plain": [
       "45.0"
      ]
     },
     "execution_count": 5,
     "metadata": {},
     "output_type": "execute_result"
    }
   ],
   "source": [
    "moyenne([10,20,30,40,60,110])"
   ]
  },
  {
   "cell_type": "code",
   "execution_count": 1,
   "id": "3b76f139-d92b-482e-84c4-417d8b885c74",
   "metadata": {},
   "outputs": [],
   "source": [
    "coeur = [[0, 0, 0, 0, 0, 0, 0, 0, 0, 0, 0, 0, 0], \\\n",
    "        [0, 0, 0, 1, 1, 0, 0, 0, 1, 1, 0, 0, 0], \\\n",
    "        [0, 0, 1, 0, 0, 1, 0, 1, 0, 0, 1, 0, 0], \\\n",
    "        [0, 1, 0, 0, 0, 0, 1, 0, 0, 0, 0, 1, 0], \\\n",
    "        [0, 1, 0, 0, 0, 0, 0, 0, 0, 0, 0, 1, 0], \\\n",
    "        [0, 1, 0, 0, 0, 0, 0, 0, 0, 0, 0, 1, 0], \\\n",
    "        [0, 0, 1, 0, 0, 0, 0, 0, 0, 0, 1, 0, 0], \\\n",
    "        [0, 0, 0, 1, 0, 0, 0, 0, 0, 1, 0, 0, 0], \\\n",
    "        [0, 0, 0, 0, 1, 0, 0, 0, 1, 0, 0, 0, 0], \\\n",
    "        [0, 0, 0, 0, 0, 1, 0, 1, 0, 0, 0, 0, 0], \\\n",
    "        [0, 0, 0, 0, 0, 0, 1, 0, 0, 0, 0, 0, 0], \\\n",
    "        [0, 0, 0, 0, 0, 0, 0, 0, 0, 0, 0, 0, 0]]\n",
    "\n",
    "def affiche(dessin):\n",
    "    for ligne in dessin:\n",
    "        for col in ligne:\n",
    "            if col == 1:\n",
    "                print(' *',end='')\n",
    "            else:\n",
    "                print('  ',end='')\n",
    "        print()\n",
    "\n",
    "\n",
    "def zoomListe(liste_depart, k):\n",
    "    liste_zoom = []\n",
    "    for elt in liste_depart:\n",
    "        for i in range(k):\n",
    "            liste_zoom.append(elt)\n",
    "    return liste_zoom\n",
    "\n",
    "def zoomDessin(grille, k):\n",
    "    grille_zoom = []\n",
    "    for elt in grille:\n",
    "        liste_zoom = zoomListe(elt, k)\n",
    "        for i in range(k):\n",
    "            grille_zoom.append(liste_zoom)\n",
    "    return grille_zoom"
   ]
  },
  {
   "cell_type": "code",
   "execution_count": 2,
   "id": "a936b169-9107-4562-b06a-435b2ee6301a",
   "metadata": {},
   "outputs": [
    {
     "name": "stdout",
     "output_type": "stream",
     "text": [
      "                          \n",
      "       * *       * *      \n",
      "     *     *   *     *    \n",
      "   *         *         *  \n",
      "   *                   *  \n",
      "   *                   *  \n",
      "     *               *    \n",
      "       *           *      \n",
      "         *       *        \n",
      "           *   *          \n",
      "             *            \n",
      "                          \n"
     ]
    }
   ],
   "source": [
    "affiche(coeur)"
   ]
  },
  {
   "cell_type": "code",
   "execution_count": 4,
   "id": "8216f3ff-edce-408d-9105-6f11eb02dda8",
   "metadata": {},
   "outputs": [
    {
     "name": "stdout",
     "output_type": "stream",
     "text": [
      "                                                                              \n",
      "                                                                              \n",
      "                                                                              \n",
      "                   * * * * * *                   * * * * * *                  \n",
      "                   * * * * * *                   * * * * * *                  \n",
      "                   * * * * * *                   * * * * * *                  \n",
      "             * * *             * * *       * * *             * * *            \n",
      "             * * *             * * *       * * *             * * *            \n",
      "             * * *             * * *       * * *             * * *            \n",
      "       * * *                         * * *                         * * *      \n",
      "       * * *                         * * *                         * * *      \n",
      "       * * *                         * * *                         * * *      \n",
      "       * * *                                                       * * *      \n",
      "       * * *                                                       * * *      \n",
      "       * * *                                                       * * *      \n",
      "       * * *                                                       * * *      \n",
      "       * * *                                                       * * *      \n",
      "       * * *                                                       * * *      \n",
      "             * * *                                           * * *            \n",
      "             * * *                                           * * *            \n",
      "             * * *                                           * * *            \n",
      "                   * * *                               * * *                  \n",
      "                   * * *                               * * *                  \n",
      "                   * * *                               * * *                  \n",
      "                         * * *                   * * *                        \n",
      "                         * * *                   * * *                        \n",
      "                         * * *                   * * *                        \n",
      "                               * * *       * * *                              \n",
      "                               * * *       * * *                              \n",
      "                               * * *       * * *                              \n",
      "                                     * * *                                    \n",
      "                                     * * *                                    \n",
      "                                     * * *                                    \n",
      "                                                                              \n",
      "                                                                              \n",
      "                                                                              \n"
     ]
    }
   ],
   "source": [
    "affiche(zoomDessin(coeur,3))"
   ]
  },
  {
   "cell_type": "code",
   "execution_count": null,
   "id": "509cdace-9fb9-41b0-9ec9-c6ccba5e4b87",
   "metadata": {},
   "outputs": [],
   "source": []
  },
  {
   "cell_type": "code",
   "execution_count": 1,
   "id": "45edccaf-6aaf-4f48-9dfd-d9e510cc4948",
   "metadata": {},
   "outputs": [],
   "source": [
    "def recherche(elt,tab):\n",
    "    for i in range(len(tab)):\n",
    "        if tab[i] == elt:\n",
    "            return i\n",
    "    return -1"
   ]
  },
  {
   "cell_type": "code",
   "execution_count": 3,
   "id": "1064f91b-a571-460f-bf6c-0b5195cb3882",
   "metadata": {},
   "outputs": [
    {
     "data": {
      "text/plain": [
       "-1"
      ]
     },
     "execution_count": 3,
     "metadata": {},
     "output_type": "execute_result"
    }
   ],
   "source": [
    "recherche(1, [2, 3, 4])"
   ]
  },
  {
   "cell_type": "code",
   "execution_count": 26,
   "id": "33269302-8deb-4f24-94fb-7e1c61b3be07",
   "metadata": {},
   "outputs": [],
   "source": [
    "def insere(a, tab):\n",
    "    l = list(tab)\n",
    "    l.append(a)\n",
    "    i = len(l)-2\n",
    "    while a < l[i] and i >= 0:\n",
    "        l[i+1] = l[i]\n",
    "        l[i] = a\n",
    "        i = i - 1\n",
    "    return l"
   ]
  },
  {
   "cell_type": "code",
   "execution_count": 27,
   "id": "f69f2ba5-a2bf-494d-b21f-f4c13b6d6445",
   "metadata": {},
   "outputs": [
    {
     "data": {
      "text/plain": [
       "[1, 2, 3, 4]"
      ]
     },
     "execution_count": 27,
     "metadata": {},
     "output_type": "execute_result"
    }
   ],
   "source": [
    "insere(1,[2,3,4])\n"
   ]
  },
  {
   "cell_type": "code",
   "execution_count": null,
   "id": "70004b06-997f-459c-b243-3f874cbae13a",
   "metadata": {},
   "outputs": [],
   "source": [
    "    "
   ]
  },
  {
   "cell_type": "code",
   "execution_count": 1,
   "id": "4379ea38-711c-498b-8c13-79e95ea917bc",
   "metadata": {},
   "outputs": [
    {
     "ename": "TypeError",
     "evalue": "'tuple' object does not support item assignment",
     "output_type": "error",
     "traceback": [
      "\u001b[1;31m---------------------------------------------------------------------------\u001b[0m",
      "\u001b[1;31mTypeError\u001b[0m                                 Traceback (most recent call last)",
      "\u001b[1;32m~\\AppData\\Local\\Temp/ipykernel_13680/4202351635.py\u001b[0m in \u001b[0;36m<module>\u001b[1;34m\u001b[0m\n\u001b[0;32m      1\u001b[0m \u001b[0mmonUplet\u001b[0m \u001b[1;33m=\u001b[0m \u001b[1;33m(\u001b[0m\u001b[1;36m1\u001b[0m\u001b[1;33m,\u001b[0m\u001b[1;36m2\u001b[0m\u001b[1;33m,\u001b[0m\u001b[1;36m3\u001b[0m\u001b[1;33m,\u001b[0m\u001b[1;36m4\u001b[0m\u001b[1;33m,\u001b[0m\u001b[1;36m5\u001b[0m\u001b[1;33m)\u001b[0m\u001b[1;33m\u001b[0m\u001b[1;33m\u001b[0m\u001b[0m\n\u001b[1;32m----> 2\u001b[1;33m \u001b[0mmonUplet\u001b[0m\u001b[1;33m[\u001b[0m\u001b[1;36m0\u001b[0m\u001b[1;33m]\u001b[0m \u001b[1;33m=\u001b[0m \u001b[1;36m8\u001b[0m\u001b[1;33m\u001b[0m\u001b[1;33m\u001b[0m\u001b[0m\n\u001b[0m\u001b[0;32m      3\u001b[0m \u001b[0mmonUplet\u001b[0m\u001b[1;33m.\u001b[0m\u001b[0mappend\u001b[0m\u001b[1;33m(\u001b[0m\u001b[1;36m67\u001b[0m\u001b[1;33m)\u001b[0m\u001b[1;33m\u001b[0m\u001b[1;33m\u001b[0m\u001b[0m\n\u001b[0;32m      4\u001b[0m \u001b[0mmonUplet\u001b[0m\u001b[1;33m.\u001b[0m\u001b[0mpop\u001b[0m\u001b[1;33m(\u001b[0m\u001b[1;33m)\u001b[0m\u001b[1;33m\u001b[0m\u001b[1;33m\u001b[0m\u001b[0m\n",
      "\u001b[1;31mTypeError\u001b[0m: 'tuple' object does not support item assignment"
     ]
    }
   ],
   "source": [
    "monUplet = (1,2,3,4,5)\n",
    "monUplet[0] = 8\n",
    "monUplet.append(67)\n",
    "monUplet.pop()\n",
    "#on ne peut pas rajouter des élément dans un tuple"
   ]
  },
  {
   "cell_type": "code",
   "execution_count": 2,
   "id": "a40dffc9-b246-4a3c-84b6-56b7ac6b59e3",
   "metadata": {},
   "outputs": [],
   "source": [
    "liste1= [\"a\", \"b\", \"c\"]\n",
    "liste2 = [\"a\", \"b\", \"c\"]\n",
    "#si on medifie l'une des listes l'autre ne sera pas modifié"
   ]
  },
  {
   "cell_type": "code",
   "execution_count": 9,
   "id": "0123daa3-f94b-4aad-9c7f-27d7b81006e0",
   "metadata": {},
   "outputs": [
    {
     "name": "stdout",
     "output_type": "stream",
     "text": [
      "['a', 'b', 'c', 'a'] ['a', 'b', 'c', 'a']\n"
     ]
    }
   ],
   "source": [
    "liste3= [\"a\", \"b\", \"c\"]\n",
    "liste4 = liste3 \n",
    "liste3 += 'a'\n",
    "# on rajoute l'élément dans la list\n",
    "liste5 = liste3.copy()\n",
    "print(liste4,liste5)\n",
    "#l'alias prend les éléments de la liste même avec modifications"
   ]
  },
  {
   "cell_type": "code",
   "execution_count": 10,
   "id": "b613db5c-1d18-4882-a298-97f9de23ed5b",
   "metadata": {},
   "outputs": [
    {
     "name": "stdout",
     "output_type": "stream",
     "text": [
      "(1, 2, 3, 4, 5)\n",
      "(1, 2, 3)\n"
     ]
    }
   ],
   "source": [
    "tuple1 = (1,2,3)\n",
    "tuple2 = tuple1\n",
    "tuple1 = tuple1 + (4,5)\n",
    "print(tuple1)\n",
    "print(tuple2)\n",
    "#on peut rajouter des valeurs dans un tuple en recreant un appartir de lui même sans changer ses alias"
   ]
  },
  {
   "cell_type": "code",
   "execution_count": 21,
   "id": "294e0e08-8316-4597-b0f7-ab4c6919216d",
   "metadata": {},
   "outputs": [
    {
     "name": "stdout",
     "output_type": "stream",
     "text": [
      "[1, 2, 3]\n"
     ]
    }
   ],
   "source": [
    "def copie_liste(liste):\n",
    "    new_list = []\n",
    "    for i in liste:\n",
    "        new_list.append(i)\n",
    "    return new_list\n",
    "\n",
    "\n",
    "liste1 = [1,2,3]\n",
    "liste2 = copie_liste(liste1)\n",
    "print(liste2)"
   ]
  },
  {
   "cell_type": "code",
   "execution_count": 23,
   "id": "d291d3aa-8584-409b-9ec5-51323afcb436",
   "metadata": {},
   "outputs": [
    {
     "name": "stdout",
     "output_type": "stream",
     "text": [
      "[[1, 6], [3, 4]]\n",
      "[[1, 6], [3, 4]]\n"
     ]
    }
   ],
   "source": [
    "liste3 = [[1,2],[3,4]]\n",
    "liste4 = copie_liste(liste3)\n",
    "liste3[0][1] = 6\n",
    "print(liste4)\n",
    "print(liste3)\n",
    "#l'alias fonctionne sur les matrices"
   ]
  },
  {
   "cell_type": "code",
   "execution_count": 86,
   "id": "f96689e2-df9c-494c-abd7-82a225290a01",
   "metadata": {},
   "outputs": [],
   "source": [
    "def copie_liste_recursive2(liste):\n",
    "    if len(liste) == 1:\n",
    "        return [liste.pop(0)]\n",
    "    return [liste.pop(0)]+[copie_liste_recursive(liste)]\n",
    "\n",
    "def copie_liste_recursive(liste):\n",
    "    new_liste = []\n",
    "    if  isinstance(liste,list):\n",
    "        return liste\n",
    "    for i in liste:\n",
    "        return new_liste.append(copie_liste_recursive(i))\n",
    "    return new_liste"
   ]
  },
  {
   "cell_type": "code",
   "execution_count": 87,
   "id": "7902f837-2486-46f4-946c-b6ad1d25d489",
   "metadata": {},
   "outputs": [
    {
     "name": "stdout",
     "output_type": "stream",
     "text": [
      "[[9, 0], [6, 7]]\n",
      "[1, 2, 3, 4, 5]\n",
      "[[[9, 0], [6, 7]], [[1, 2, 3, 4, 5], [1, 2]]]\n"
     ]
    }
   ],
   "source": [
    "l1 = [[9,0],[6,7]]\n",
    "l2 = [1,2,3,4,5]\n",
    "l3 = [[[9,0],[6,7]], [[1,2,3,4,5],[1,2]]]\n",
    "print(copie_liste_recursive(l1))\n",
    "print(copie_liste_recursive(l2))\n",
    "print(copie_liste_recursive(l3))"
   ]
  },
  {
   "cell_type": "code",
   "execution_count": 53,
   "id": "feec40e1-8a54-418d-ab0d-98300b7b0df2",
   "metadata": {},
   "outputs": [
    {
     "name": "stdout",
     "output_type": "stream",
     "text": [
      "[1, 2, 3]\n",
      "[5, 1]\n"
     ]
    }
   ],
   "source": [
    "def fct_test(maListe):\n",
    "    maListe.append(1)\n",
    "    return\n",
    "maListe = [1,2,3]\n",
    "ex2 = [5]\n",
    "fct_test(ex2)\n",
    "print(maListe)\n",
    "print(ex2)\n",
    "# maListe de la ft conrrespond à une copie de variable sous un nouveau non, il ne modifira donc pas maListe si elle n'est pas ajouter dans un appelle de la ft"
   ]
  },
  {
   "cell_type": "code",
   "execution_count": null,
   "id": "d40bf53f-840d-440f-a511-085afafbcd8d",
   "metadata": {},
   "outputs": [],
   "source": []
  },
  {
   "cell_type": "code",
   "execution_count": null,
   "id": "97332f77-216f-4644-b71a-1a1e098f6fe2",
   "metadata": {},
   "outputs": [],
   "source": []
  }
 ],
 "metadata": {
  "kernelspec": {
   "display_name": "Python 3 (ipykernel)",
   "language": "python",
   "name": "python3"
  },
  "language_info": {
   "codemirror_mode": {
    "name": "ipython",
    "version": 3
   },
   "file_extension": ".py",
   "mimetype": "text/x-python",
   "name": "python",
   "nbconvert_exporter": "python",
   "pygments_lexer": "ipython3",
   "version": "3.10.0"
  }
 },
 "nbformat": 4,
 "nbformat_minor": 5
}
