{
 "cells": [
  {
   "cell_type": "code",
   "execution_count": 1,
   "id": "c44d6c02-5493-4b99-b43b-c47318b5b8ac",
   "metadata": {},
   "outputs": [],
   "source": [
    "def recherche(tab,n):\n",
    "    for i in range(len(tab)):\n",
    "        if tab[i] == n:\n",
    "            return i\n",
    "    return len(tab)"
   ]
  },
  {
   "cell_type": "code",
   "execution_count": 14,
   "id": "e12e0a56-f6e2-44b9-b049-294810a861b1",
   "metadata": {},
   "outputs": [
    {
     "name": "stdout",
     "output_type": "stream",
     "text": [
      "2\n",
      "0\n"
     ]
    }
   ],
   "source": [
    "print(recherche([5, 3],1))\n",
    "print(recherche([2,4],2))"
   ]
  },
  {
   "cell_type": "code",
   "execution_count": 13,
   "id": "a0f53f57-2642-4375-a20b-9c6515f57a47",
   "metadata": {},
   "outputs": [],
   "source": [
    "from math import sqrt\n",
    "\n",
    "def distance(point1, point2):\n",
    "    return sqrt((point1[0]-point2[0])**2 + (point1[1]-point2[1])**2)\n",
    "\n",
    "assert distance((1, 0), (5, 3)) == 5.0, \"erreur de calcul\"\n",
    "\n",
    "\n",
    "def plus_courte_distance(tab, depart):\n",
    "    point = tab[0]\n",
    "    min_dist = distance(tab[0], depart)\n",
    "    for i in range (1,len(tab)):\n",
    "        if distance(tab[i], depart) < min_dist:\n",
    "            point = tab[i]\n",
    "            min_dist = distance(tab[i], depart)\n",
    "    return point\n",
    "\n",
    "assert plus_courte_distance([(7, 9), (2, 5), (5, 2)], (0, 0)) == (2, 5), \"erreur\""
   ]
  },
  {
   "cell_type": "code",
   "execution_count": 21,
   "id": "314716a2-97e4-4105-8763-296f7a3fa632",
   "metadata": {},
   "outputs": [
    {
     "name": "stdout",
     "output_type": "stream",
     "text": [
      "([1, 0, 0, 1], 4)\n"
     ]
    }
   ],
   "source": [
    "def conv_bin(n):\n",
    "    nb_bin = []\n",
    "    for i in range(len(bin(n))):\n",
    "        if i > 1:\n",
    "            nb_bin += [int(bin(n)[i])]\n",
    "    return (nb_bin,len(nb_bin))\n",
    "print(conv_bin(9))"
   ]
  },
  {
   "cell_type": "code",
   "execution_count": 25,
   "id": "66dd3e7a-2434-4da3-9204-f84173a36b19",
   "metadata": {},
   "outputs": [
    {
     "name": "stdout",
     "output_type": "stream",
     "text": [
      "[2, 5, 7, 8, 9]\n"
     ]
    }
   ],
   "source": [
    "def tri_bulles(T):\n",
    "    for i in range(len(T)):\n",
    "        for j in range(len(T) - i - 1):\n",
    "            if T[j] > T[j + 1]:\n",
    "                T[j], T[j + 1] = T[j + 1], T[j]\n",
    "    return T\n",
    "print(tri_bulles([8,5,9,2,7]))"
   ]
  },
  {
   "cell_type": "code",
   "execution_count": 47,
   "id": "f9cfdca2-b18b-4395-8179-800c7e74ceb2",
   "metadata": {},
   "outputs": [
    {
     "name": "stdout",
     "output_type": "stream",
     "text": [
      "[3, 2, 9, 5]\n"
     ]
    }
   ],
   "source": [
    "def tri_selection(liste):\n",
    "    n = len(liste)\n",
    "    for i in range(n-2):\n",
    "        value_min = i\n",
    "        for j in (i + 1, n - 1):\n",
    "            if liste[j] < liste[value_min]:\n",
    "                value_min = j\n",
    "        if value_min != i:\n",
    "            liste[i], liste[value_min] = liste[value_min], liste[i]\n",
    "    return liste\n",
    "print(tri_selection([5,9,2,3]))"
   ]
  },
  {
   "cell_type": "markdown",
   "id": "ccfcfaef-5a48-40f4-a5c7-7286ba00c0a4",
   "metadata": {},
   "source": []
  }
 ],
 "metadata": {
  "kernelspec": {
   "display_name": "Python 3 (ipykernel)",
   "language": "python",
   "name": "python3"
  },
  "language_info": {
   "codemirror_mode": {
    "name": "ipython",
    "version": 3
   },
   "file_extension": ".py",
   "mimetype": "text/x-python",
   "name": "python",
   "nbconvert_exporter": "python",
   "pygments_lexer": "ipython3",
   "version": "3.10.0"
  }
 },
 "nbformat": 4,
 "nbformat_minor": 5
}
