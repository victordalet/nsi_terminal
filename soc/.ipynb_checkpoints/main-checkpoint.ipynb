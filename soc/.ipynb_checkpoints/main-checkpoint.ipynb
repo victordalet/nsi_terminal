{
 "cells": [
  {
   "cell_type": "markdown",
   "id": "da10bc20-db16-405b-8968-52c91acc38ee",
   "metadata": {},
   "source": [
    "                                                          SOC"
   ]
  },
  {
   "cell_type": "markdown",
   "id": "0de91f27-edf8-4ef1-aee8-1891a1f8a657",
   "metadata": {},
   "source": [
    "1) soc : systeme entier sur une seule puce\n",
    "2) telephonie (petit appareil)\n",
    "3) soc plus petit mais moins puissants\n",
    "4) les coeurs aident le processeur à effectuer ses processus\n",
    "5) 1,3 et 3 GHz pour soc ; gpu : intel i9 dernier modele 4.6GHz\n",
    "6) threads : taches\n",
    "7) mémoire cache : enregistre des données sur de courtes durée pour améliorer la vitesse, le cpu capte le cache pour le faire fonctionner\n",
    "8) nombre d'opération par secondes\n",
    "9) manipule les données - effectue les opérations\n",
    "10) isp : processeur image\n",
    "11) Le processeur de signal numérique (DSP)\n",
    "12) Le processeur sécurité (SPU)\n",
    "13) \n",
    "14) nomade (petit) / compliqué à faire ; pas très puissant ; pas de rajout de composant\n",
    "15) les actuels sont gravés en 10 nm par exemple, quand la prochaine génération sera en 7 nm\n",
    "16) petit et ressources\n",
    "17) ARM propose des architectures qui sont vendues sous licence de propriété intellectuelle aux concepteurs. Ils proposent différentes options dans lesquelles les constructeurs peuvent prendre ce qui les intéresse pour compléter avec leurs options propres ou de concepteurs tiers.\n",
    "18) Aujourd'hui, ARM est surtout connu pour ses systèmes sur une puce (SoC), intégrant sur une seule puce : microprocesseur, processeur graphique (GPU), DSP, FPU, SIMD, et contrôleur de périphériques. "
   ]
  },
  {
   "cell_type": "markdown",
   "id": "513c817b-536f-4013-9ed7-75cd55075bda",
   "metadata": {},
   "source": [
    "                                                            LES PROCESSUS"
   ]
  },
  {
   "cell_type": "markdown",
   "id": "627b8ad1-0a1c-48b5-b781-2f90a4b60e26",
   "metadata": {},
   "source": [
    "Un processus correspond à un : \n",
    "    - un groupe ou ensemble d'instructions\n",
    "    - Un espace mémoire alloué pour les données nécessaire à son exécution\n",
    "    - D'autres ressources (ports réseau, descripteurs de fichiers)\n",
    "\n",
    "Un processus peut passer par différents états :\n",
    "    - Prêt\n",
    "    - Bloqué\n",
    "    - Elu"
   ]
  },
  {
   "cell_type": "code",
   "execution_count": null,
   "id": "c5dfb4ef-f444-418a-bbfe-990bacc167ce",
   "metadata": {},
   "outputs": [],
   "source": []
  }
 ],
 "metadata": {
  "kernelspec": {
   "display_name": "Python 3 (ipykernel)",
   "language": "python",
   "name": "python3"
  },
  "language_info": {
   "codemirror_mode": {
    "name": "ipython",
    "version": 3
   },
   "file_extension": ".py",
   "mimetype": "text/x-python",
   "name": "python",
   "nbconvert_exporter": "python",
   "pygments_lexer": "ipython3",
   "version": "3.10.2"
  }
 },
 "nbformat": 4,
 "nbformat_minor": 5
}
