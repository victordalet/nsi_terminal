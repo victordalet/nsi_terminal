{
 "cells": [
  {
   "cell_type": "markdown",
   "id": "da10bc20-db16-405b-8968-52c91acc38ee",
   "metadata": {},
   "source": [
    "### SOC"
   ]
  },
  {
   "cell_type": "markdown",
   "id": "0de91f27-edf8-4ef1-aee8-1891a1f8a657",
   "metadata": {},
   "source": [
    "1) soc : systeme entier sur une seule puce\n",
    "2) telephonie (petit appareil)\n",
    "3) soc plus petit mais moins puissants\n",
    "4) les coeurs aident le processeur à effectuer ses processus\n",
    "5) 1,3 et 3 GHz pour soc ; gpu : intel i9 dernier modele 4.6GHz\n",
    "6) threads : taches\n",
    "7) mémoire cache : enregistre des données sur de courtes durée pour améliorer la vitesse, le cpu capte le cache pour le faire fonctionner\n",
    "8) nombre d'opération par secondes\n",
    "9) manipule les données - effectue les opérations\n",
    "10) isp : processeur image\n",
    "11) Le processeur de signal numérique (DSP)\n",
    "12) Le processeur sécurité (SPU)\n",
    "13) \n",
    "14) nomade (petit) / compliqué à faire ; pas très puissant ; pas de rajout de composant\n",
    "15) les actuels sont gravés en 10 nm par exemple, quand la prochaine génération sera en 7 nm\n",
    "16) petit et ressources\n",
    "17) ARM propose des architectures qui sont vendues sous licence de propriété intellectuelle aux concepteurs. Ils proposent différentes options dans lesquelles les constructeurs peuvent prendre ce qui les intéresse pour compléter avec leurs options propres ou de concepteurs tiers.\n",
    "18) Aujourd'hui, ARM est surtout connu pour ses systèmes sur une puce (SoC), intégrant sur une seule puce : microprocesseur, processeur graphique (GPU), DSP, FPU, SIMD, et contrôleur de périphériques. "
   ]
  },
  {
   "cell_type": "markdown",
   "id": "513c817b-536f-4013-9ed7-75cd55075bda",
   "metadata": {},
   "source": [
    "  ###                                                           LES PROCESSUS"
   ]
  },
  {
   "cell_type": "markdown",
   "id": "627b8ad1-0a1c-48b5-b781-2f90a4b60e26",
   "metadata": {},
   "source": [
    "Un processus correspond à un : \n",
    "    - un groupe ou ensemble d'instructions\n",
    "    - Un espace mémoire alloué pour les données nécessaire à son exécution\n",
    "    - D'autres ressources (ports réseau, descripteurs de fichiers)\n",
    "\n",
    "Un processus peut passer par différents états :\n",
    "    - Prêt\n",
    "    - Bloqué\n",
    "    - Elu"
   ]
  },
  {
   "cell_type": "markdown",
   "id": "bfce64fc-f615-4168-a452-5d2c74ff1e31",
   "metadata": {},
   "source": [
    "1) La commande ps retourne un \"cliché\" de vos processus en cours sur la machine, ainsi que les ressources consommées par ceux-ci\n",
    "2) top permet de donner les mêmes informations que ps mais en temps réel. On peut lui préciser le délai de rafraîchissemt.\n",
    "3) Kill termine un processus\n",
    "4) Le signal SIGTERM est couramment utilisé pour simplement mettre fin à une application. SIGKILL quand à lui permet de forcer un arrêt mais l'effectue de façon brutale.\n",
    "5) sleeping stop un processus sur une durée detérminer et stopped finis son execution\n",
    "6) la communication de process permet de gerer les executions de programmes selon des priorité choisi dans des algorithmes d'ordennacncement précedemment executé.\n",
    "7) Régler le quantum trop court, augmente la surcharge et réduit l’efficacité du processeur, mais le régler trop longtemps peut entraîner une mauvaise réponse aux processus courts et le temps d’attente moyen dans le cadre de la politique RR est souvent long.\n",
    "8) Chaque processus reçoit une part égale du CPU et RR est de nature cyclique, il n’y a donc pas de famine.\n",
    "9) pb inconvénient : Si les processus hautement prioritaires utilisent beaucoup de temps CPU, les processus moins prioritaires peuvent mourir de faim et être reportés indéfiniment. La situation dans laquelle un processus n’est jamais programmé pour s’exécuter est appelée famine . Un autre problème est de décider quel processus obtient quel niveau de priorité lui est attribué."
   ]
  },
  {
   "cell_type": "markdown",
   "id": "b4823f3c-2a70-4dbd-a6e8-7327069d2a49",
   "metadata": {},
   "source": [
    "Algorithme préemptif stop des processus pour en faire fonctionner d'autres"
   ]
  },
  {
   "cell_type": "markdown",
   "id": "846209c0-828d-4223-adec-26d70b1e2ee6",
   "metadata": {},
   "source": []
  }
 ],
 "metadata": {
  "kernelspec": {
   "display_name": "Python 3 (ipykernel)",
   "language": "python",
   "name": "python3"
  },
  "language_info": {
   "codemirror_mode": {
    "name": "ipython",
    "version": 3
   },
   "file_extension": ".py",
   "mimetype": "text/x-python",
   "name": "python",
   "nbconvert_exporter": "python",
   "pygments_lexer": "ipython3",
   "version": "3.10.2"
  }
 },
 "nbformat": 4,
 "nbformat_minor": 5
}
